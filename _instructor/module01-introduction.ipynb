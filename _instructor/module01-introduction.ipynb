{
 "cells": [
  {
   "cell_type": "markdown",
   "metadata": {},
   "source": [
    "<img src=\"https://jupyter.org/assets/main-logo.svg\" heigt=50> <font size=\"14\" color=grey>  DHI Campus - Jupyter Training</font> \n",
    "***"
   ]
  },
  {
   "cell_type": "markdown",
   "metadata": {},
   "source": [
    "***\n",
    "**Attention Instructor**: *<mark>This notebook is to be created by the student, no template is provided!<mark>*\n",
    "\n",
    "***"
   ]
  },
  {
   "cell_type": "markdown",
   "metadata": {},
   "source": [
    "# Module 1: Getting Started"
   ]
  },
  {
   "cell_type": "markdown",
   "metadata": {},
   "source": [
    "**Learning Goals:**\n",
    "    \n",
    "+ Understand what Jupyter Notebooks are and where their strengths and weaknesses lie\n",
    "+ Create an Azure Jupyter Notebook\n",
    "+ Know about Azure/Jupyter community within DHI (For now Yammer “Lets talk about agile reporting; mid-term: create and promote community, repo.)\n",
    "+ Add formatted markdown and code cells to a notebook\n",
    "+ Include figures, LaTeX formulae and HTML into a notebook\n"
   ]
  },
  {
   "cell_type": "markdown",
   "metadata": {},
   "source": [
    "**Pre-Reading**\n",
    "+ Read Article “By Jupyter, it all makes sense” from Nature Journal 2018 (Vol.563)\n",
    "+ Read “Literate Programming” on Wikipedia\n",
    "+ **Select one of your own projects to use as a test case**\n",
    "+ Setup: Create Azure account and import training files\n",
    "+ Video: Code of conduct \n"
   ]
  },
  {
   "cell_type": "markdown",
   "metadata": {},
   "source": [
    "**Facilitation**\n",
    "\n",
    "Follow the provided Excel-Spreadsheet for timing!\n",
    "\n",
    "+ Reception, Welcome, Meet&Greet, Icebreaker\n",
    "+ General introduction: Use [this notebook](./module1/module01-pres-Application Notebooks in DHI.ipynb) as a screen presentation.\n",
    "+ Break-out: Discuss pros and cons of using Notebooks / Literate programming. Where do you see this being used? Name your favorite application project.\n",
    "+ Breakout groups present their work, group discussion moderated by trainers\n",
    "+ Break for refreshments and toilet\n",
    "+ Questions on prereading/installation and presentation of module 1 so far to reactivate participants\n",
    "+ **Create a first Notebook**. Notebook shall be solely created by the students from the scratch. Use the contents contained as a guideline.\n"
   ]
  },
  {
   "cell_type": "markdown",
   "metadata": {},
   "source": [
    "\n",
    "<div class=\"alert alert-block alert-danger\">\n",
    "**Attention Instructor**: Start of Students Notebook\n",
    "</div>\n",
    "https://www.ibm.com/support/knowledgecenter/en/SSGNPV_1.1.3/dsx/markd-jupyter.html"
   ]
  },
  {
   "cell_type": "markdown",
   "metadata": {
    "ExecuteTime": {
     "end_time": "2019-08-26T15:40:03.569995Z",
     "start_time": "2019-08-26T15:40:03.566444Z"
    }
   },
   "source": [
    "*show that this is active code ...*"
   ]
  },
  {
   "cell_type": "code",
   "execution_count": 1,
   "metadata": {
    "ExecuteTime": {
     "end_time": "2019-08-26T15:40:03.569995Z",
     "start_time": "2019-08-26T15:40:03.566444Z"
    }
   },
   "outputs": [
    {
     "name": "stdout",
     "output_type": "stream",
     "text": [
      "hello world!\n"
     ]
    }
   ],
   "source": [
    "print(\"hello world!\")"
   ]
  },
  {
   "cell_type": "markdown",
   "metadata": {},
   "source": [
    "*.. we will however first learn about the Notebook aspect.*"
   ]
  },
  {
   "cell_type": "markdown",
   "metadata": {},
   "source": [
    "***"
   ]
  },
  {
   "cell_type": "markdown",
   "metadata": {},
   "source": [
    "<div class=\"alert alert-block alert-warning\">\n",
    "    <b>Instructor Note</b>:<br> \n",
    "    \n",
    "Code from here in \"module1.ipynb\" on Azure. <br>\n",
    "    <b> MAKE SURE TO DO IT SLOW SO THAT EVERYONE CAN FOLLOW </b> </div>"
   ]
  },
  {
   "cell_type": "markdown",
   "metadata": {},
   "source": [
    "Lets start by setting a Heading for the Notebook\n",
    "Headings and their levels can be defined by hashtags. These headings will be added to the table of contents (if available)\n",
    "\n",
    "# Module 1: Markdown, HTML and LaTeX\n",
    "\n",
    "Introduction to basic use of Jupyter Notebooks like a Scratchpad.\n"
   ]
  },
  {
   "cell_type": "markdown",
   "metadata": {},
   "source": [
    "\n",
    "## Markdown\n",
    "\n"
   ]
  },
  {
   "cell_type": "markdown",
   "metadata": {},
   "source": [
    "### Text Formatting\n",
    "\n",
    "Text in Markdown Cells can be formatted *italic* or **bold**. By using one or two asterixes in front and after the passage to modify."
   ]
  },
  {
   "cell_type": "markdown",
   "metadata": {},
   "source": [
    "bulleted lists can be created by - (or +) at the beginning of a line:\n",
    "+ bullet 1\n",
    "+ bullet 2"
   ]
  },
  {
   "cell_type": "markdown",
   "metadata": {},
   "source": [
    "an alternative to bullets are numbered lists which are simply set by :\n",
    "1. test  \n",
    "2. test\n",
    "4. test"
   ]
  },
  {
   "cell_type": "markdown",
   "metadata": {},
   "source": [
    "in order to insert a horizontal line multiple asterixes or dashes (>3) can be used.\n",
    "\n",
    "***\n",
    "(horizontal line)"
   ]
  },
  {
   "cell_type": "markdown",
   "metadata": {},
   "source": [
    "\n",
    "Monospace text can be achieved by adding a prime at the beginning and end of a text passage.\n",
    "\n",
    "`code text (monospace)`\n",
    "\n",
    "unformatted text results if a text block is indented (by tab), it is then NOT INTERPRETED with regard to further markdown formatting.\n",
    "\n",
    "\n",
    "    # code block, as a `test`\n",
    "    import ifm\n",
    "    ifm.loadDocument(\"./file.fem\")\n",
    "\n",
    "you can see that hashtag and primes are used in the indented block but have no effect.\n",
    "\n",
    "\n",
    "To create indented blocks where Markdown formatting IS INTERPRETED can be created with the greater than sign\n",
    "\n",
    "> # To `be` or not to be .."
   ]
  },
  {
   "cell_type": "markdown",
   "metadata": {},
   "source": [
    "<a id=\"top\"></a>\n",
    "\n",
    "## Adding links\n",
    "\n",
    "To add (links) figures to the Notebook you can use eiter the Markdown format where the name of the link can be specified in square brackets and the link itself in brackets...  "
   ]
  },
  {
   "cell_type": "markdown",
   "metadata": {},
   "source": [
    "[Links to interesting websites](https://www.dhigroup.com)\n",
    "\n",
    "To link within Notebooks you can use the same syntax but need to specify a link anchor before\n",
    "\n",
    "[Links within notebooks](#top)"
   ]
  },
  {
   "cell_type": "markdown",
   "metadata": {
    "ExecuteTime": {
     "end_time": "2019-08-26T13:44:17.255145Z",
     "start_time": "2019-08-26T13:44:17.142022Z"
    }
   },
   "source": [
    "### Figures\n",
    "\n",
    "figures can be included in a Notebook using eiter the Markdown format where an exclamation mark needs to be specified before the otherwise already known square brackets.\n",
    "\n",
    "![\"DHI Logo\"](https://www.dhigroup.com/-/media/shared%20content/global/global%20repository/logos/dhi/dhi_logo_pos_rgb_nomargin.png?h=61&la=en&w=94)"
   ]
  },
  {
   "cell_type": "markdown",
   "metadata": {},
   "source": [
    "### HTML\n",
    "\n",
    "As an alternative, one can almost always use html language in the  \n",
    "<img alt=\"DHI\" src=\"https://www.dhigroup.com/-/media/shared%20content/global/global%20repository/logos/dhi/dhi_logo_pos_rgb_nomargin.png?h=61&la=en&w=94\" width=\"20%\">\n",
    "\n",
    "Text can also be formatted using HTML...\n",
    "\n",
    "This is <font color=\"#990000\">HTML</font> formatted text.\n"
   ]
  },
  {
   "cell_type": "markdown",
   "metadata": {},
   "source": [
    "You can use a <mark>marker</mark> color..."
   ]
  },
  {
   "cell_type": "markdown",
   "metadata": {},
   "source": [
    "### LaTeX\n",
    "\n",
    "Jupyter uses LaTeX as a formula editor.\n",
    "\n",
    "LaTeX expressions can be inline formulas like $a^2 + b^2 = c^2$, or publication style like\n",
    "\n",
    "$$ e^{i\\pi} + 1 = 0 $$"
   ]
  },
  {
   "cell_type": "markdown",
   "metadata": {},
   "source": [
    "## Jupyter\n",
    "\n",
    "+ Activate TOC"
   ]
  },
  {
   "cell_type": "markdown",
   "metadata": {},
   "source": [
    "---\n",
    "\n",
    "<div class=\"alert alert-block alert-warning\">\n",
    "    <b>Instructor Note</b>:<br> \n",
    "    Check if everyone could follow.<br> \n",
    "    Go back to Azure Project<br>\n",
    "    Let participants add second notebook \"table_of_contents.ipynb\" under same Project during the upcoming Breakout room\n",
    "    </div>\n",
    "\n",
    "----- \n",
    "## Breakout room \"Create your next Notebook\"\n",
    "\n",
    "During the breakout session you should create a new notebook \"table_of_contents\" under the same Project.\n",
    "\n",
    "    \n",
    "Table of contents Notebook should contain:\n",
    "\n",
    "1. General heading (Level1, \"Table of contents\")\n",
    "2. Headings for all four modules\n",
    "3. Brief summary what you learned in Session 1 (discuss in Breakout)\n",
    "4. Link to your Module 1 Notebook\n",
    "5. Feel free to spice it up a bit with formatting / images"
   ]
  },
  {
   "cell_type": "markdown",
   "metadata": {},
   "source": [
    "***\n",
    "\n",
    "+ **Discussion of questions**.<br> Make sure everyone has successfully created their first notebook.\n",
    "\n",
    "+ **Introduce assignment for this module**:<br>\n",
    "  See notebook [Assignment01](../course_content/module01/module01-assignment01.ipynb)\n",
    "\n",
    "+ **Evaluation**:<br> Repeat the module goals and ask what people found worked well and what they missed, if anything. \n",
    "\n",
    "+ **Farewell**:<br>wave everyone goodbye and close the meeting\n"
   ]
  },
  {
   "cell_type": "code",
   "execution_count": null,
   "metadata": {
    "collapsed": true
   },
   "outputs": [],
   "source": []
  }
 ],
 "metadata": {
  "hide_input": false,
  "kernelspec": {
   "display_name": "Python 3",
   "language": "python",
   "name": "python3"
  },
  "language_info": {
   "codemirror_mode": {
    "name": "ipython",
    "version": 3
   },
   "file_extension": ".py",
   "mimetype": "text/x-python",
   "name": "python",
   "nbconvert_exporter": "python",
   "pygments_lexer": "ipython3",
   "version": "3.6.8"
  },
  "toc": {
   "base_numbering": 1,
   "nav_menu": {},
   "number_sections": true,
   "sideBar": true,
   "skip_h1_title": true,
   "title_cell": "Table of Contents",
   "title_sidebar": "Contents",
   "toc_cell": false,
   "toc_position": {},
   "toc_section_display": "block",
   "toc_window_display": true
  },
  "varInspector": {
   "cols": {
    "lenName": 16,
    "lenType": 16,
    "lenVar": 40
   },
   "kernels_config": {
    "python": {
     "delete_cmd_postfix": "",
     "delete_cmd_prefix": "del ",
     "library": "var_list.py",
     "varRefreshCmd": "print(var_dic_list())"
    },
    "r": {
     "delete_cmd_postfix": ") ",
     "delete_cmd_prefix": "rm(",
     "library": "var_list.r",
     "varRefreshCmd": "cat(var_dic_list()) "
    }
   },
   "types_to_exclude": [
    "module",
    "function",
    "builtin_function_or_method",
    "instance",
    "_Feature"
   ],
   "window_display": false
  }
 },
 "nbformat": 4,
 "nbformat_minor": 2
}
