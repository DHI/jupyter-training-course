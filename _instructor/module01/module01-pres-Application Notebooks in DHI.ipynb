{
 "cells": [
  {
   "cell_type": "markdown",
   "metadata": {},
   "source": [
    "<img src=\"https://jupyter.org/assets/main-logo.svg\" heigt=50> <font size=\"14\" color=grey>  DHI Campus - Jupyter Training</font> "
   ]
  },
  {
   "cell_type": "markdown",
   "metadata": {},
   "source": [
    "# General Introduction \n",
    "\n",
    "## What is Jupyter, Spyder and IPython?"
   ]
  },
  {
   "cell_type": "markdown",
   "metadata": {},
   "source": [
    "### IPython\n",
    "\n",
    "+ “Interactive” Python\n",
    "+ Program can be written and executed line-by-line\n",
    "+ User can interact after each command\n",
    "\n",
    "+ Advantage: No need to re-run the complete script to apply changes"
   ]
  },
  {
   "cell_type": "code",
   "execution_count": 8,
   "metadata": {},
   "outputs": [
    {
     "data": {
      "text/plain": [
       "0"
      ]
     },
     "execution_count": 8,
     "metadata": {},
     "output_type": "execute_result"
    }
   ],
   "source": [
    "i = 0\n",
    "i"
   ]
  },
  {
   "cell_type": "code",
   "execution_count": 9,
   "metadata": {},
   "outputs": [
    {
     "data": {
      "text/plain": [
       "1"
      ]
     },
     "execution_count": 9,
     "metadata": {},
     "output_type": "execute_result"
    }
   ],
   "source": [
    "i += 1\n",
    "i"
   ]
  },
  {
   "cell_type": "markdown",
   "metadata": {},
   "source": [
    "### Jupyter\n",
    "\n",
    "+ Popular Front-End for Ipython\n",
    "+ Integrated Reporting Feature (Markdown)\n",
    "+ Web-Interface (local or remote)\n",
    "+ Support for non-Python languages (e.g. **Ju**lia-**Py**thon-**R**)\n",
    "\n",
    "<div class=\"alert alert-block alert-warning\">\n",
    "    <b>What you see here is a Jupyter Notebook </b>\n",
    "</div>"
   ]
  },
  {
   "cell_type": "markdown",
   "metadata": {},
   "source": [
    "### Spyder, Jupyter Lab, and other IDE\n",
    "\n",
    "Other Frontends support jupyter notebooks as well.\n",
    "\n",
    "+ **Spyder**: Matlab-Style (inbuilt visualization of variables, matrices, etc).\n",
    "+ **Pycharm**: Commercial IDE useful for combined usage of Jupyter notebooks and plain Python development.\n",
    "+ **Jupyter Lab**: Next Generation of the Jupyter IDE (more powerfull but under development)\n",
    "\n",
    "![spyder_example.png](./spyder_example.png)\n",
    "\n",
    "***The Spyder IDE provides a Matlab Style working environment***"
   ]
  },
  {
   "cell_type": "markdown",
   "metadata": {},
   "source": [
    "## What can Notebooks be used for?\n",
    "\n",
    "+ **programming of simple tasks with graphical output** (\"Excel replacement\")\n",
    "  + Creating charts from Excel Tables\n",
    "  + Do GIS operations and plotting on shape files\n",
    "  + Batch-Execute MIKE Models and send progress via email\n",
    "  + Regressionmodell\n",
    "    \n",
    "+ **interactive widgets**\n",
    "  + [iPhone applications (empirical velocity profile)](module01-pres-interactive_widgest.ipynb)\n",
    "    \n",
    "+ **workflow documentation / handover**\n",
    "  + [MIKE training example](module01-pres-mike_training_example.ipynb)\n",
    "\n",
    "+ **Smart Reporting**\n",
    "  + Create [self-building reports](module01-pres-example_automation.ipynb)"
   ]
  }
 ],
 "metadata": {
  "hide_input": false,
  "kernelspec": {
   "display_name": "Python 3",
   "language": "python",
   "name": "python3"
  },
  "language_info": {
   "codemirror_mode": {
    "name": "ipython",
    "version": 3
   },
   "file_extension": ".py",
   "mimetype": "text/x-python",
   "name": "python",
   "nbconvert_exporter": "python",
   "pygments_lexer": "ipython3",
   "version": "3.6.8"
  },
  "toc": {
   "base_numbering": 1,
   "nav_menu": {},
   "number_sections": true,
   "sideBar": true,
   "skip_h1_title": true,
   "title_cell": "Table of Contents",
   "title_sidebar": "Contents",
   "toc_cell": false,
   "toc_position": {},
   "toc_section_display": "block",
   "toc_window_display": false
  },
  "varInspector": {
   "cols": {
    "lenName": 16,
    "lenType": 16,
    "lenVar": 40
   },
   "kernels_config": {
    "python": {
     "delete_cmd_postfix": "",
     "delete_cmd_prefix": "del ",
     "library": "var_list.py",
     "varRefreshCmd": "print(var_dic_list())"
    },
    "r": {
     "delete_cmd_postfix": ") ",
     "delete_cmd_prefix": "rm(",
     "library": "var_list.r",
     "varRefreshCmd": "cat(var_dic_list()) "
    }
   },
   "types_to_exclude": [
    "module",
    "function",
    "builtin_function_or_method",
    "instance",
    "_Feature"
   ],
   "window_display": false
  }
 },
 "nbformat": 4,
 "nbformat_minor": 2
}
