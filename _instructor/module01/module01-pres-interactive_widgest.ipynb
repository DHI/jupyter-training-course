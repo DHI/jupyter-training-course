{
 "cells": [
  {
   "cell_type": "markdown",
   "metadata": {},
   "source": [
    "<img src=\"https://jupyter.org/assets/main-logo.svg\" heigt=50> <font size=\"14\" color=grey>  DHI Campus - Jupyter Training</font> "
   ]
  },
  {
   "cell_type": "markdown",
   "metadata": {},
   "source": [
    "# Example of an interactive Notebook"
   ]
  },
  {
   "cell_type": "markdown",
   "metadata": {},
   "source": [
    "## Vertical Profile \n",
    "\n",
    "Underlying equation:\n",
    "\n",
    "$v(z) = 2.5 \\cdot \\sqrt{\\frac{\\tau_0}{\\rho}} \\cdot \\ln(\\frac{z}{z_1})$\n"
   ]
  },
  {
   "cell_type": "code",
   "execution_count": 2,
   "metadata": {},
   "outputs": [
    {
     "data": {
      "application/vnd.jupyter.widget-view+json": {
       "model_id": "be0f38cc9a1d407ea579e597840447c3",
       "version_major": 2,
       "version_minor": 0
      },
      "text/plain": [
       "interactive(children=(IntSlider(value=15, continuous_update=False, description='h [m]', layout=Layout(flex='1 …"
      ]
     },
     "metadata": {},
     "output_type": "display_data"
    }
   ],
   "source": [
    "%matplotlib inline\n",
    "import numpy as np\n",
    "import matplotlib\n",
    "import matplotlib.pyplot as plt\n",
    "plt.style.use('ggplot');\n",
    "\n",
    "#from statsmodels.graphics import tsaplots # für korrelation, dekomposition etc\n",
    "#import statsmodels.api as sm # für decomposition\n",
    "from ipywidgets import SelectionRangeSlider, Dropdown, ToggleButtons, Checkbox, IntSlider, FloatSlider\n",
    "from ipywidgets import Layout, interactive, interact\n",
    "lo = Layout(flex='1 1 0%', width='99%') # Layout (Breite etc der widgets)\n",
    "\n",
    "def update_vplot(wl,tau_0,rho,z1):\n",
    "    z_all = np.linspace(0.0001,wl,wl*20) # geodätische Höhe von Sohle\n",
    "\n",
    "    # löse für alle höhen/tiefen\n",
    "    v = [2.5*np.sqrt(tau_0/rho)*np.log10(z/z1) for z in z_all]\n",
    "    vm = np.mean(v) # mittel\n",
    "    # finde schnittpunkt \n",
    "    vi = 100\n",
    "    for idx,vx in enumerate(v):\n",
    "        if vi > abs(vx-vm):\n",
    "            vi = abs(vx-vm)\n",
    "            ix = idx\n",
    "    zi = z_all[ix]\n",
    "    \n",
    "    # stelle grafisch dar\n",
    "    fig, axs = plt.subplots(figsize=(16,10))\n",
    "    axs.scatter(v,z_all,c=v,cmap='rainbow')\n",
    "    axs.plot(v,z_all,linewidth=0.7,c='k',alpha=0.7)\n",
    "    # plotte noch tiefenmittel und median\n",
    "    axs.plot([vm,vm],[z_all[0],z_all[-1]], linewidth=0.5,c='grey',label='depth averaged')\n",
    "    # plotte schnittpunkt tiefenmittel mit Geschwindigkeitsprofil \n",
    "    # plotte rechte achse wie line aber normiert von 0-1(00)\n",
    "    \n",
    "    # markiere flächig was über mittel liegt\n",
    "    plt.hlines(xmin=vm,xmax=v[-1],y=z_all[-1])\n",
    "    \n",
    "    # plotte box mit abstand v[-1] zu vm (absolut und relativ)\n",
    "    # Fehlerbox\n",
    "    bbox_props = dict(boxstyle=\"square\", fc='w', ec=\"k\", lw=1)\n",
    "    axs.text(0.1, 0.93, \"|v$_{surf}$- v$_m$| = \"+str(round(abs(v[-1]-vm),4))+\" m/s \\n\"+\n",
    "             \"v$_{surf}$- v$_m$/v$_{surf}$ = \"+str(  round(  (v[-1]-vm)/v[-1]*100)) +\"%\\n\"+\n",
    "             \"z$_i$ = \"+str(round(zi,2))+\" m \\n\"+\n",
    "             \"z$_i$/z$_{max}$ = \"+str(round(zi/z_all[-1]*100,2))+\" % \\n\",\n",
    "                        ha=\"left\", va=\"top\", rotation=0, size=15,\n",
    "                        color='k', transform=axs.transAxes,\n",
    "                        bbox=bbox_props);\n",
    "    plt.xlabel('v [m/s]')\n",
    "    plt.ylabel('z [m]')\n",
    "    plt.title('Tau$_0$: '+str(tau_0)+' rho: '\n",
    "              +str(rho)+ ' kg/m$^3$ friction coeff: '+str(z1))\n",
    "    #plt.grid()\n",
    "    axs.set_xlim(-0.2,0.5)\n",
    "    plt.legend()\n",
    "    plt.show()\n",
    "\n",
    "    \n",
    "# sliders\n",
    "wis_wl = IntSlider(\n",
    "    value=15,\n",
    "    min=1,\n",
    "    max=40,\n",
    "    step=1,\n",
    "    description='h [m]',\n",
    "    orientation='horizontal',\n",
    "    continuous_update=False, # if false update is solely done when slider is \"dropped\"\n",
    "    layout=lo)\n",
    "wfs_rho = FloatSlider(\n",
    "    value=1000,\n",
    "    min=800,\n",
    "    max=1300,\n",
    "    step=10,\n",
    "    description='rho [kg/m $^3$]',\n",
    "    orientation='horizontal',\n",
    "    continuous_update=False, # if false update is solely done when slider is \"dropped\"\n",
    "    layout=lo)\n",
    "wfs_z1 = FloatSlider(\n",
    "    value=0.001,\n",
    "    min=0.001,\n",
    "    max=1,\n",
    "    step=0.001,\n",
    "    description='z$_1$ [kg/m$^3$]', # friction coefficient\n",
    "    orientation='horizontal',\n",
    "    continuous_update=False, # if false update is solely done when slider is \"dropped\"\n",
    "    layout=lo)\n",
    "wfs_tau = FloatSlider(\n",
    "    value=1,\n",
    "    min=0.001,\n",
    "    max=3,\n",
    "    step=0.001,\n",
    "    description='Tau $_0$ [F/L$^2$]',\n",
    "    orientation='horizontal',\n",
    "    continuous_update=False, # if false update is solely done when slider is \"dropped\"\n",
    "    layout=lo)\n",
    "\n",
    "interact(update_vplot,wl=wis_wl, tau_0 = wfs_tau, rho = wfs_rho, z1 = wfs_z1);\n"
   ]
  },
  {
   "cell_type": "code",
   "execution_count": null,
   "metadata": {},
   "outputs": [],
   "source": []
  }
 ],
 "metadata": {
  "hide_input": false,
  "kernelspec": {
   "display_name": "Python 3",
   "language": "python",
   "name": "python3"
  },
  "language_info": {
   "codemirror_mode": {
    "name": "ipython",
    "version": 3
   },
   "file_extension": ".py",
   "mimetype": "text/x-python",
   "name": "python",
   "nbconvert_exporter": "python",
   "pygments_lexer": "ipython3",
   "version": "3.6.8"
  },
  "toc": {
   "base_numbering": 1,
   "nav_menu": {},
   "number_sections": true,
   "sideBar": true,
   "skip_h1_title": false,
   "title_cell": "Table of Contents",
   "title_sidebar": "Contents",
   "toc_cell": false,
   "toc_position": {},
   "toc_section_display": true,
   "toc_window_display": false
  }
 },
 "nbformat": 4,
 "nbformat_minor": 2
}
