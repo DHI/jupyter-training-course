{
 "cells": [
  {
   "cell_type": "markdown",
   "metadata": {},
   "source": [
    "<img src=\"https://jupyter.org/assets/main-logo.svg\" heigt=60> <font size=\"14\" color=grey>  DHI Campus - Jupyter Training</font>  \n",
    "***"
   ]
  },
  {
   "cell_type": "markdown",
   "metadata": {},
   "source": [
    "# Module 01 - Assignment"
   ]
  },
  {
   "cell_type": "markdown",
   "metadata": {},
   "source": [
    "Here are some useful resources:\n",
    "+ [Markdown Formatting of Jupyter Notebooks Cheatsheet](https://medium.com/ibm-data-science-experience/markdown-for-jupyter-notebooks-cheatsheet-386c05aeebed).\n",
    "+ [ask your question here!](www.google.com)\n",
    "\n",
    "\n",
    "## Task: Create a Project Report\n",
    "\n",
    "Take one of your last (non-classified) reports and reproduce a brief excerpt (1-2 pages) of it. Ideally, this would be the project you want to use during the course (we will later extent in the upcoming modules).\n",
    "\n",
    "It should include basic formatting (section headers) and a figure imported from a graphics file and a table. If also include a formula in LaTeX. Format one text passage in red color.\n",
    "\n",
    "Document features as well as pros and cons of Jupyter Notebooks in a table in markdown in a Notebook. Add one figure (for example Jupyter Logo) to your documentation notebook. \n",
    "\n"
   ]
  }
 ],
 "metadata": {
  "kernelspec": {
   "display_name": "Python 3",
   "language": "python",
   "name": "python3"
  },
  "language_info": {
   "codemirror_mode": {
    "name": "ipython",
    "version": 3
   },
   "file_extension": ".py",
   "mimetype": "text/x-python",
   "name": "python",
   "nbconvert_exporter": "python",
   "pygments_lexer": "ipython3",
   "version": "3.6.6"
  }
 },
 "nbformat": 4,
 "nbformat_minor": 2
}
