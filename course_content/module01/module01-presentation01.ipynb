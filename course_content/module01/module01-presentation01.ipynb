{
 "cells": [
  {
   "cell_type": "markdown",
   "metadata": {},
   "source": [
    "<img src=\"https://jupyter.org/assets/main-logo.svg\" heigt=60> <font size=\"14\" color=grey>  DHI Campus - Jupyter Training</font>  \n",
    "***"
   ]
  },
  {
   "cell_type": "markdown",
   "metadata": {},
   "source": [
    "<font size=6> <b> Welcome! <b> </font>\n",
    "\n",
    "<u>**Summarized learning goals of this Module \"Introduction\"**</u>\n",
    "\n",
    "- Understand what Jupyter Notebooks are and where their strengths and weaknesses lie\n",
    "- Create an Azure Jupyter Notebook\n",
    "- Add formatted markdown and code cells to a notebook\n",
    "- Include figures, LaTeX formulae and HTML into a notebook\n",
    "- **Know about Azure/Jupyter community within DHI**"
   ]
  },
  {
   "cell_type": "markdown",
   "metadata": {},
   "source": [
    "<u>**Agenda for this module**</u>\n",
    "1. Get acquainted with each other\n",
    "2. General introduction to Jupyter Notebooks\n",
    "3. Create your first Jupyter Notebooks\n",
    "4. Feedback and discussion, introduction of homework for next week"
   ]
  },
  {
   "cell_type": "code",
   "execution_count": null,
   "metadata": {},
   "outputs": [],
   "source": []
  }
 ],
 "metadata": {
  "hide_input": false,
  "kernelspec": {
   "display_name": "Python 3",
   "language": "python",
   "name": "python3"
  },
  "language_info": {
   "codemirror_mode": {
    "name": "ipython",
    "version": 3
   },
   "file_extension": ".py",
   "mimetype": "text/x-python",
   "name": "python",
   "nbconvert_exporter": "python",
   "pygments_lexer": "ipython3",
   "version": "3.6.8"
  },
  "toc": {
   "base_numbering": 1,
   "nav_menu": {},
   "number_sections": true,
   "sideBar": true,
   "skip_h1_title": false,
   "title_cell": "Table of Contents",
   "title_sidebar": "Contents",
   "toc_cell": false,
   "toc_position": {},
   "toc_section_display": true,
   "toc_window_display": false
  }
 },
 "nbformat": 4,
 "nbformat_minor": 2
}
