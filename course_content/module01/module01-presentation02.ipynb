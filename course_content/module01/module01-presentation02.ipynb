{
 "cells": [
  {
   "cell_type": "markdown",
   "metadata": {},
   "source": [
    "<img src=\"https://jupyter.org/assets/main-logo.svg\" heigt=60> <font size=\"14\" color=grey>  DHI Campus - Jupyter Training</font>  \n",
    "***"
   ]
  },
  {
   "cell_type": "markdown",
   "metadata": {},
   "source": [
    "<font size=6> <b> What are Jupyter Notebooks and why are they useful?</b> </font>\n",
    "\n",
    "<div class=\"alert alert-block alert-warning\">\n",
    "    <b>What you see here is a Jupyter Notebook! </b>\n",
    "</div>\n",
    "\n",
    "**Definition**\n",
    "\n",
    "\"*It is a server-client application that allows you to **edit your code through a web browser**.*\" [Source: *365datascience.com*]\n",
    "\n",
    "**What is so great about them?**\n",
    "\n",
    "0. They can contain a Mixture of Text, Code, Images, Videos etc. so there is **all in one place**.\n",
    "0. They support a **lot of different programming languages** such as **Ju**lia, **Py**thon, **R** and these days many more (like Haskell, C, Ruby. Around 50 in total, see https://github.com/jupyter/jupyter/wiki/Jupyter-kernels )\n",
    "1. They allow you to **document any project and the underlying workflows** (manual and those automated by code) involved...\n",
    "2. and thereby **create reproducible and self updating (interactive) reports** \n",
    "2. **Interactive code** poses a **great way of exploring data** and... \n",
    "3. also make Notebooks a **great tool to communicate** (continuously) internally or with clients and create higher transparency (especially for clients)...\n",
    "4. especially since they are **easy to convert to different formats** such as HTML and PDF.\n",
    "\n",
    "\n",
    "**Rapid increase in users as measured by GitHub searches**\n",
    "\n",
    "![growth jupyter](figures/nbestimate_popularity_estimate1.png)\n",
    "\n",
    "\n",
    "\"*One analysis of the code-sharing site GitHub counted more than 2.5 million public Jupyter notebooks in September 2018, up from 200,000 or so in 2015*\" [Source: *www.nature.com*]\n",
    "\n",
    "$\\Rightarrow$ For these reasons, **Notebooks have become a quasi standard for Data Scientists** and rose dramatically in popularity. In this course we will use Notebooks with the also really **popular programming language Python (3.x)** \n",
    "even though others would be possible.\n",
    "\n",
    "![growth programming languages](figures/growth_major_languages-1-1024x878.png)\n",
    "\n",
    "\n",
    "\n",
    "-----\n",
    "\n",
    "**Practical example** *<br>\n",
    "\n",
    "\n",
    "[Link to Demonotebook](module01-presentation3_Demo.ipynb)\n",
    "\n",
    "*Due to size of underlying data and dependencies on multiple libraries not included in course repository"
   ]
  },
  {
   "cell_type": "code",
   "execution_count": null,
   "metadata": {},
   "outputs": [],
   "source": []
  }
 ],
 "metadata": {
  "hide_input": false,
  "kernelspec": {
   "display_name": "Python 3",
   "language": "python",
   "name": "python3"
  },
  "language_info": {
   "codemirror_mode": {
    "name": "ipython",
    "version": 3
   },
   "file_extension": ".py",
   "mimetype": "text/x-python",
   "name": "python",
   "nbconvert_exporter": "python",
   "pygments_lexer": "ipython3",
   "version": "3.6.8"
  },
  "toc": {
   "base_numbering": 1,
   "nav_menu": {},
   "number_sections": true,
   "sideBar": true,
   "skip_h1_title": false,
   "title_cell": "Table of Contents",
   "title_sidebar": "Contents",
   "toc_cell": false,
   "toc_position": {},
   "toc_section_display": true,
   "toc_window_display": false
  }
 },
 "nbformat": 4,
 "nbformat_minor": 2
}
