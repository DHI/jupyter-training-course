{
 "cells": [
  {
   "cell_type": "markdown",
   "metadata": {},
   "source": [
    "<img src=\"https://jupyter.org/assets/main-logo.svg\" heigt=60> <font size=\"14\" color=grey>  DHI Campus - Jupyter Training</font>  \n",
    "***"
   ]
  },
  {
   "cell_type": "markdown",
   "metadata": {},
   "source": [
    "# Module 02 - Assignment"
   ]
  },
  {
   "cell_type": "markdown",
   "metadata": {},
   "source": [
    "Here are some useful resources:\n",
    "+ [Markdown Formatting of Jupyter Notebooks Cheatsheet](https://medium.com/ibm-data-science-experience/markdown-for-jupyter-notebooks-cheatsheet-386c05aeebed).\n",
    "+ [Yammer: Python Channel](https://www.yammer.com/dhigroup.com/#/threads/inGroup?type=in_group&feedId=11857616&view=all)\n",
    "+ [put your question here!](www.google.com)"
   ]
  },
  {
   "cell_type": "markdown",
   "metadata": {},
   "source": [
    "## Task 1: Load a complicated time Series\n",
    "\n",
    "Your task is to load some time series data coming in irregular intervalls. Your task is to \n",
    "+ read the files to a dataframe\n",
    "+ resample and synchronize the time series.\n",
    "\n",
    "The result shall be a table with a DateTimeIndex, and one column per gauged location."
   ]
  },
  {
   "cell_type": "markdown",
   "metadata": {},
   "source": [
    "## Task 2: Load your own project data\n",
    "\n",
    "Create a Notebook for your personal project, or continue with the one created in Assignment 01.\n",
    "\n",
    "Add the relevant data you want to process (and later visualize) to this  notebook.\n",
    "\n",
    "+ Load the data from whatever file format\n",
    "+ Process the files if necessary, e.g. tabulate (pivot) the data and resample if desired\n",
    "+ plot the data and add some accompanying text to the output describing the data.\n",
    "\n"
   ]
  }
 ],
 "metadata": {
  "kernelspec": {
   "display_name": "Python 3",
   "language": "python",
   "name": "python3"
  },
  "language_info": {
   "codemirror_mode": {
    "name": "ipython",
    "version": 3
   },
   "file_extension": ".py",
   "mimetype": "text/x-python",
   "name": "python",
   "nbconvert_exporter": "python",
   "pygments_lexer": "ipython3",
   "version": "3.6.6"
  }
 },
 "nbformat": 4,
 "nbformat_minor": 2
}
